{
 "cells": [
  {
   "cell_type": "markdown",
   "metadata": {},
   "source": [
    "<h2 align=\"center\" style=\"color:blue\">Codebasics Python Course: Exercise - Functions, Dict, Tuples, File Handling</h2>"
   ]
  },
  {
   "cell_type": "markdown",
   "metadata": {},
   "source": [
    "Imagine you run a loyalty program where customers earn rewards based on the total amount they have spent. The rewards levels are defined based on the total purchase amount. Based on this scenario, complete the following tasks"
   ]
  },
  {
   "cell_type": "markdown",
   "metadata": {},
   "source": [
    "### Task 1\n",
    "\n",
    "You are given a file called ```customers.txt``` that contains the name of the customer and total amount they spent. Read this file line by line and save the customer name and total amount in a dictionary.\n",
    "\n",
    "For example, customers.txt file will content the data in the following format,\n",
    "```\n",
    "Srinivas,120\n",
    "John,250\n",
    "Maria,150\n",
    "Smith,510\n",
    "Anjali,45\n",
    "```\n",
    "\n",
    "You will read this and build a dictionary like this,\n",
    "```\n",
    "{\n",
    "    \"Srinivas\": 120,\n",
    "    \"John\": 250,\n",
    "    \"Maria\": 150,\n",
    "    \"Smith\": 510,\n",
    "    \"Anjali\": 45\n",
    "}\n",
    "```"
   ]
  },
  {
   "cell_type": "code",
   "execution_count": 19,
   "metadata": {},
   "outputs": [],
   "source": [
    "# write your code here\n",
    "def read_customer_Data(file_name):\n",
    "    customer_spending = {}\n",
    "    with open(file_name,'r') as file:\n",
    "        for line in file:\n",
    "            name, amount = line.split(\",\")\n",
    "            if name in customer_spending:\n",
    "                customer_spending[name] += float(amount)\n",
    "            else:\n",
    "                customer_spending[name] = float(amount)\n",
    "    return customer_spending"
   ]
  },
  {
   "cell_type": "markdown",
   "metadata": {},
   "source": [
    "### Task 2\n",
    "\n",
    "The rewards levels are defined below based on the total purchase amount. Using this define a function called calculate_rewards that takes total as input and returns the reward.\n",
    "\n",
    "```\n",
    "1. Bronze: Total purchases $100-$199\n",
    "1. Silver: Total purchases $200-$499\n",
    "1. Gold: Total purchases $500+\n",
    "```"
   ]
  },
  {
   "cell_type": "code",
   "execution_count": 11,
   "metadata": {},
   "outputs": [
    {
     "name": "stdout",
     "output_type": "stream",
     "text": [
      "{'Santosh': 'Gold'}\n"
     ]
    }
   ],
   "source": [
    "# write your code here\n",
    "def calculate_rewards(customer_spending):\n",
    "    reward_category = {}\n",
    "    #print(\"in functions\")\n",
    "    for name, amount in customer_spending.items():\n",
    "        #print(name, amount)\n",
    "        if amount >=100 and amount<=199:\n",
    "            reward_category[name] = 'Bronze'\n",
    "        elif amount >=200 and amount<=499:\n",
    "            reward_category[name] = 'Silver'\n",
    "        else:\n",
    "            reward_category[name] = 'Gold'\n",
    "    return reward_category\n",
    "\n",
    "reward_Category = calculate_rewards(read_customer_Data('customers.txt'))\n",
    "print(reward_Category)"
   ]
  },
  {
   "cell_type": "markdown",
   "metadata": {},
   "source": [
    "### Task 3\n",
    "\n",
    "Now for each of the customers in our customers_dict, calculate the rewards and build a customers_summary dictionary that looks like the following, (key is the name of the customer and the value is a tuple containing total amount and rewards level)\n",
    "\n",
    "```\n",
    "{\n",
    "    'Srinivas': (120, 'Bronze'),\n",
    "    'John': (250, 'Silver'),\n",
    "    'Maria': (150, 'Bronze'),\n",
    "    'Smith': (510, 'Gold'),\n",
    "    'Anjali': (45, 'None')\n",
    "}\n",
    "```"
   ]
  },
  {
   "cell_type": "code",
   "execution_count": 6,
   "metadata": {},
   "outputs": [
    {
     "name": "stdout",
     "output_type": "stream",
     "text": [
      "{'Srinivas': (120.0, 'Bronze'), 'John': (250.0, 'Silver'), 'Maria': (150.0, 'Bronze'), 'Smith': (510.0, 'Gold'), 'Anjali': (45.0, 'Gold'), 'Navin': (100.0, 'Bronze'), 'Santosh': (99.0, 'Gold')}\n"
     ]
    }
   ],
   "source": [
    "# write your code here\n",
    "customer_Summary = {}\n",
    "for name in customer_spending:\n",
    "    customer_Summary[name] = (customer_spending[name], reward_Category[name])\n",
    "print(customer_Summary)"
   ]
  },
  {
   "cell_type": "markdown",
   "metadata": {},
   "source": [
    "### Task 4\n",
    "\n",
    "Now stitch all of the above code together and create a function that takes file name as input and returns the customer_summary dictionary.\n",
    "\n",
    "```\n",
    "def process_customer_data(file_name):\n",
    "    # return customer_summary dict\n",
    "```"
   ]
  },
  {
   "cell_type": "code",
   "execution_count": 22,
   "metadata": {},
   "outputs": [
    {
     "data": {
      "text/plain": [
       "{'Srinivas': (120.0, 'Bronze'),\n",
       " 'John': (250.0, 'Silver'),\n",
       " 'Maria': (150.0, 'Bronze'),\n",
       " 'Smith': (510.0, 'Gold'),\n",
       " 'Anjali': (45.0, 'Gold'),\n",
       " 'Navin': (100.0, 'Bronze'),\n",
       " 'Santosh': (99.0, 'Gold')}"
      ]
     },
     "execution_count": 22,
     "metadata": {},
     "output_type": "execute_result"
    }
   ],
   "source": [
    "# write your code here\n",
    "def process_customer_data(file_name):\n",
    "    customer_raw_data = read_customer_Data(file_name)\n",
    "    #print(\"Customer Raw Data:\", customer_raw_data)\n",
    "    customer_rewards = calculate_rewards(customer_raw_data)\n",
    "    #print(\"Customer Rewards:\", customer_rewards)\n",
    "    customer_Summary = {}\n",
    "    for name in customer_raw_data:\n",
    "        customer_Summary[name] = (customer_raw_data[name], customer_rewards[name])\n",
    "    return customer_Summary\n",
    "process_customer_data('customers.txt')"
   ]
  },
  {
   "cell_type": "code",
   "execution_count": null,
   "metadata": {},
   "outputs": [],
   "source": []
  }
 ],
 "metadata": {
  "colab": {
   "collapsed_sections": [],
   "name": "1_Variables.ipynb",
   "provenance": []
  },
  "kernelspec": {
   "display_name": "Python 3",
   "language": "python",
   "name": "python3"
  },
  "language_info": {
   "codemirror_mode": {
    "name": "ipython",
    "version": 3
   },
   "file_extension": ".py",
   "mimetype": "text/x-python",
   "name": "python",
   "nbconvert_exporter": "python",
   "pygments_lexer": "ipython3",
   "version": "3.13.1"
  }
 },
 "nbformat": 4,
 "nbformat_minor": 1
}
