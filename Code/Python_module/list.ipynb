{
 "cells": [
  {
   "cell_type": "code",
   "execution_count": 2,
   "id": "2e1a4cf6",
   "metadata": {},
   "outputs": [
    {
     "name": "stdout",
     "output_type": "stream",
     "text": [
      "['Bread', 'Milk', 'pasta', 'Fruits']\n"
     ]
    }
   ],
   "source": [
    "items = [\"Bread\",\"Milk\",\"pasta\",\"Fruits\"]\n",
    "print(items)"
   ]
  },
  {
   "cell_type": "code",
   "execution_count": 14,
   "id": "3be6024b",
   "metadata": {},
   "outputs": [
    {
     "name": "stdout",
     "output_type": "stream",
     "text": [
      "['Bread', 'Milk']\n",
      "['Milk', 'pasta', 'Fruits']\n",
      "['Bread', 'Milk', 'pasta']\n"
     ]
    }
   ],
   "source": [
    "print(items[0:2])\n",
    "print(items[1:])\n",
    "print(items[:3])"
   ]
  },
  {
   "cell_type": "code",
   "execution_count": 15,
   "id": "84443c2e",
   "metadata": {},
   "outputs": [
    {
     "name": "stdout",
     "output_type": "stream",
     "text": [
      "['Bread', 'Milk', 'pasta', 'Fruits', 'Eggs']\n"
     ]
    }
   ],
   "source": [
    "items.append(\"Eggs\")\n",
    "print(items)"
   ]
  },
  {
   "cell_type": "code",
   "execution_count": 16,
   "id": "93cf9223",
   "metadata": {},
   "outputs": [
    {
     "name": "stdout",
     "output_type": "stream",
     "text": [
      "['Bread', 'pasta', 'Fruits', 'Eggs']\n"
     ]
    }
   ],
   "source": [
    "items.remove(\"Milk\")\n",
    "print(items)"
   ]
  },
  {
   "cell_type": "code",
   "execution_count": 17,
   "id": "87b555a6",
   "metadata": {},
   "outputs": [
    {
     "name": "stdout",
     "output_type": "stream",
     "text": [
      "['Bread', 'Milk', 'pasta', 'Fruits', 'Eggs']\n"
     ]
    }
   ],
   "source": [
    "items.insert(1, \"Milk\")\n",
    "print(items)"
   ]
  },
  {
   "cell_type": "code",
   "execution_count": 18,
   "id": "b8dc3b39",
   "metadata": {},
   "outputs": [
    {
     "name": "stdout",
     "output_type": "stream",
     "text": [
      "['Bread', 'Yogurt', 'pasta', 'Fruits', 'Eggs']\n"
     ]
    }
   ],
   "source": [
    "items[1]=\"Yogurt\"\n",
    "print(items)"
   ]
  },
  {
   "cell_type": "code",
   "execution_count": 20,
   "id": "841e02ae",
   "metadata": {},
   "outputs": [
    {
     "name": "stdout",
     "output_type": "stream",
     "text": [
      "['Bread', 'Yogurt', 'almonds']\n"
     ]
    }
   ],
   "source": [
    "items[2:]=['almonds']\n",
    "print(items)"
   ]
  },
  {
   "cell_type": "code",
   "execution_count": 23,
   "id": "b7c7ed27",
   "metadata": {},
   "outputs": [
    {
     "data": {
      "text/plain": [
       "False"
      ]
     },
     "execution_count": 23,
     "metadata": {},
     "output_type": "execute_result"
    }
   ],
   "source": [
    "'yogurt' in items"
   ]
  },
  {
   "cell_type": "code",
   "execution_count": 24,
   "id": "003be49d",
   "metadata": {},
   "outputs": [
    {
     "data": {
      "text/plain": [
       "True"
      ]
     },
     "execution_count": 24,
     "metadata": {},
     "output_type": "execute_result"
    }
   ],
   "source": [
    "'Yogurt' in items"
   ]
  },
  {
   "cell_type": "code",
   "execution_count": 28,
   "id": "c257aff3",
   "metadata": {},
   "outputs": [
    {
     "data": {
      "text/plain": [
       "[100, 50, 34, 30]"
      ]
     },
     "execution_count": 28,
     "metadata": {},
     "output_type": "execute_result"
    }
   ],
   "source": [
    "expenses = [100,34,50,30]\n",
    "expenses.sort(reverse=True)\n",
    "expenses"
   ]
  },
  {
   "cell_type": "code",
   "execution_count": 39,
   "id": "58b3cdac",
   "metadata": {},
   "outputs": [
    {
     "name": "stdout",
     "output_type": "stream",
     "text": [
      "['Bread', 'Milk', 'Pasta', 'Fruits', 'Juice', 'Cookies']\n",
      "6\n",
      "['Bread', 'Milk', 'Pasta', 'Fruits', 'Juice', 'Cookies']\n",
      "4\n",
      "2\n"
     ]
    }
   ],
   "source": [
    "my_items = [\"Bread\",\"Milk\",\"Pasta\",\"Fruits\"]\n",
    "kids_items = [\"Juice\",\"Cookies\"]\n",
    "my_items.extend(kids_items)\n",
    "print(my_items)\n",
    "print(len(my_items))\n",
    "my_items = [\"Bread\",\"Milk\",\"Pasta\",\"Fruits\"]\n",
    "kids_items = [\"Juice\",\"Cookies\"]\n",
    "print(my_items + kids_items)\n",
    "print(len(my_items))\n",
    "print(len(kids_items))\n"
   ]
  },
  {
   "cell_type": "code",
   "execution_count": 40,
   "id": "f9e95d9c",
   "metadata": {},
   "outputs": [
    {
     "name": "stdout",
     "output_type": "stream",
     "text": [
      "[]\n"
     ]
    }
   ],
   "source": [
    "items.clear()\n",
    "print(items)\n"
   ]
  },
  {
   "cell_type": "code",
   "execution_count": null,
   "id": "db7dcdf3",
   "metadata": {},
   "outputs": [],
   "source": []
  }
 ],
 "metadata": {
  "kernelspec": {
   "display_name": "Python 3",
   "language": "python",
   "name": "python3"
  },
  "language_info": {
   "codemirror_mode": {
    "name": "ipython",
    "version": 3
   },
   "file_extension": ".py",
   "mimetype": "text/x-python",
   "name": "python",
   "nbconvert_exporter": "python",
   "pygments_lexer": "ipython3",
   "version": "3.13.1"
  }
 },
 "nbformat": 4,
 "nbformat_minor": 5
}
