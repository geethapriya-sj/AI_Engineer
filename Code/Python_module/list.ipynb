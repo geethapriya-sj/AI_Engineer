{
 "cells": [
  {
   "cell_type": "code",
   "execution_count": 2,
   "id": "2e1a4cf6",
   "metadata": {},
   "outputs": [
    {
     "name": "stdout",
     "output_type": "stream",
     "text": [
      "['Bread', 'Milk', 'pasta', 'Fruits']\n"
     ]
    }
   ],
   "source": [
    "items = [\"Bread\",\"Milk\",\"pasta\",\"Fruits\"]\n",
    "print(items)"
   ]
  },
  {
   "cell_type": "code",
   "execution_count": 14,
   "id": "3be6024b",
   "metadata": {},
   "outputs": [
    {
     "name": "stdout",
     "output_type": "stream",
     "text": [
      "['Bread', 'Milk']\n",
      "['Milk', 'pasta', 'Fruits']\n",
      "['Bread', 'Milk', 'pasta']\n"
     ]
    }
   ],
   "source": [
    "print(items[0:2])\n",
    "print(items[1:])\n",
    "print(items[:3])"
   ]
  },
  {
   "cell_type": "code",
   "execution_count": 15,
   "id": "84443c2e",
   "metadata": {},
   "outputs": [
    {
     "name": "stdout",
     "output_type": "stream",
     "text": [
      "['Bread', 'Milk', 'pasta', 'Fruits', 'Eggs']\n"
     ]
    }
   ],
   "source": [
    "items.append(\"Eggs\")\n",
    "print(items)"
   ]
  },
  {
   "cell_type": "code",
   "execution_count": 16,
   "id": "93cf9223",
   "metadata": {},
   "outputs": [
    {
     "name": "stdout",
     "output_type": "stream",
     "text": [
      "['Bread', 'pasta', 'Fruits', 'Eggs']\n"
     ]
    }
   ],
   "source": [
    "items.remove(\"Milk\")\n",
    "print(items)"
   ]
  },
  {
   "cell_type": "code",
   "execution_count": 17,
   "id": "87b555a6",
   "metadata": {},
   "outputs": [
    {
     "name": "stdout",
     "output_type": "stream",
     "text": [
      "['Bread', 'Milk', 'pasta', 'Fruits', 'Eggs']\n"
     ]
    }
   ],
   "source": [
    "items.insert(1, \"Milk\")\n",
    "print(items)"
   ]
  },
  {
   "cell_type": "code",
   "execution_count": null,
   "id": "b8dc3b39",
   "metadata": {},
   "outputs": [],
   "source": []
  }
 ],
 "metadata": {
  "kernelspec": {
   "display_name": "Python 3",
   "language": "python",
   "name": "python3"
  },
  "language_info": {
   "codemirror_mode": {
    "name": "ipython",
    "version": 3
   },
   "file_extension": ".py",
   "mimetype": "text/x-python",
   "name": "python",
   "nbconvert_exporter": "python",
   "pygments_lexer": "ipython3",
   "version": "3.13.1"
  }
 },
 "nbformat": 4,
 "nbformat_minor": 5
}
