{
 "cells": [
  {
   "cell_type": "code",
   "execution_count": 1,
   "id": "23b250fd",
   "metadata": {},
   "outputs": [],
   "source": [
    "import numpy as np"
   ]
  },
  {
   "cell_type": "code",
   "execution_count": 2,
   "id": "c4b1583c",
   "metadata": {},
   "outputs": [
    {
     "name": "stdout",
     "output_type": "stream",
     "text": [
      "[1 2 3]\n"
     ]
    }
   ],
   "source": [
    "array_1 = np.array([1, 2, 3, 4, 5])\n",
    "print(array_1[0:3])"
   ]
  },
  {
   "cell_type": "code",
   "execution_count": 3,
   "id": "07a54c6f",
   "metadata": {},
   "outputs": [
    {
     "name": "stdout",
     "output_type": "stream",
     "text": [
      "[4 5]\n"
     ]
    }
   ],
   "source": [
    "print(array_1[3:])"
   ]
  },
  {
   "cell_type": "code",
   "execution_count": 8,
   "id": "70d4e300",
   "metadata": {},
   "outputs": [
    {
     "name": "stdout",
     "output_type": "stream",
     "text": [
      "[1 2 3 4 5]\n",
      "5\n",
      "4\n"
     ]
    }
   ],
   "source": [
    "print(array_1)\n",
    "print(array_1[-1])\n",
    "print(array_1[-2])"
   ]
  },
  {
   "cell_type": "code",
   "execution_count": 10,
   "id": "0917c243",
   "metadata": {},
   "outputs": [
    {
     "name": "stdout",
     "output_type": "stream",
     "text": [
      "[1 2 3 4 5]\n",
      "[4 5]\n"
     ]
    }
   ],
   "source": [
    "print(array_1)\n",
    "print(array_1[-2:])"
   ]
  },
  {
   "cell_type": "code",
   "execution_count": 11,
   "id": "ee25d054",
   "metadata": {},
   "outputs": [],
   "source": [
    "b = np.array([[1, 2, 3], \n",
    "              [4, 5, 6],\n",
    "              [7, 8, 9]])"
   ]
  },
  {
   "cell_type": "code",
   "execution_count": 15,
   "id": "45846b66",
   "metadata": {},
   "outputs": [
    {
     "name": "stdout",
     "output_type": "stream",
     "text": [
      "6\n",
      "7\n"
     ]
    }
   ],
   "source": [
    "print(b[1,2])\n",
    "print(b[2,0])"
   ]
  },
  {
   "cell_type": "code",
   "execution_count": 16,
   "id": "6769f7cd",
   "metadata": {},
   "outputs": [
    {
     "data": {
      "text/plain": [
       "array([7, 8, 9])"
      ]
     },
     "execution_count": 16,
     "metadata": {},
     "output_type": "execute_result"
    }
   ],
   "source": [
    "b[-1]"
   ]
  },
  {
   "cell_type": "code",
   "execution_count": 19,
   "id": "9a1c39f6",
   "metadata": {},
   "outputs": [
    {
     "data": {
      "text/plain": [
       "array([7, 8])"
      ]
     },
     "execution_count": 19,
     "metadata": {},
     "output_type": "execute_result"
    }
   ],
   "source": [
    "b[-1,0:2]"
   ]
  },
  {
   "cell_type": "code",
   "execution_count": 23,
   "id": "66950669",
   "metadata": {},
   "outputs": [],
   "source": [
    "c= np.array([[101,\"Mira\"],\n",
    "            [102,\"Sara\"],\n",
    "            [103,\"Tina\"]])"
   ]
  },
  {
   "cell_type": "code",
   "execution_count": 26,
   "id": "7840c74c",
   "metadata": {},
   "outputs": [],
   "source": [
    "d = np.array([\n",
    "             [101,250.67,\"12-04-2025\"],\n",
    "             [102,300.50,\"15-05-2025\"],\n",
    "             [103,225.50,\"20-06-2025\"]\n",
    "             ])"
   ]
  },
  {
   "cell_type": "code",
   "execution_count": 27,
   "id": "abf5440c",
   "metadata": {},
   "outputs": [
    {
     "data": {
      "text/plain": [
       "array([['101', 'Mira', '101', '250.67', '12-04-2025'],\n",
       "       ['102', 'Sara', '102', '300.5', '15-05-2025'],\n",
       "       ['103', 'Tina', '103', '225.5', '20-06-2025']], dtype='<U32')"
      ]
     },
     "execution_count": 27,
     "metadata": {},
     "output_type": "execute_result"
    }
   ],
   "source": [
    "np.hstack((c,d))"
   ]
  },
  {
   "cell_type": "code",
   "execution_count": 28,
   "id": "a4043717",
   "metadata": {},
   "outputs": [],
   "source": [
    "e = np.array([\n",
    "    [104,'Venkat'],\n",
    "    [105,'Ravi'],\n",
    "    [106,'Anil']\n",
    "])"
   ]
  },
  {
   "cell_type": "code",
   "execution_count": 29,
   "id": "e2bb0266",
   "metadata": {},
   "outputs": [
    {
     "data": {
      "text/plain": [
       "array([['101', 'Mira'],\n",
       "       ['102', 'Sara'],\n",
       "       ['103', 'Tina'],\n",
       "       ['104', 'Venkat'],\n",
       "       ['105', 'Ravi'],\n",
       "       ['106', 'Anil']], dtype='<U21')"
      ]
     },
     "execution_count": 29,
     "metadata": {},
     "output_type": "execute_result"
    }
   ],
   "source": [
    "np.vstack((c,e))"
   ]
  },
  {
   "cell_type": "code",
   "execution_count": null,
   "id": "4ed30bc4",
   "metadata": {},
   "outputs": [],
   "source": [
    "transactions = np.array([\n",
    "    [101,250.67,\"12-04-2025\"],\n",
    "    [102,300.50,\"15-05-2025\"],\n",
    "    [103,225.50,\"20-06-2025\"],\n",
    "    [104,400.00,\"25-04-2025\"],\n",
    "    [105,150.75,\"30-04-2025\"],\n",
    "    [106,350.20,\"05-05-2025\"],\n",
    "    [107,275.30,\"10-05-2025\"]\n",
    "\n",
    "])"
   ]
  }
 ],
 "metadata": {
  "kernelspec": {
   "display_name": "Python 3",
   "language": "python",
   "name": "python3"
  },
  "language_info": {
   "codemirror_mode": {
    "name": "ipython",
    "version": 3
   },
   "file_extension": ".py",
   "mimetype": "text/x-python",
   "name": "python",
   "nbconvert_exporter": "python",
   "pygments_lexer": "ipython3",
   "version": "3.13.1"
  }
 },
 "nbformat": 4,
 "nbformat_minor": 5
}
