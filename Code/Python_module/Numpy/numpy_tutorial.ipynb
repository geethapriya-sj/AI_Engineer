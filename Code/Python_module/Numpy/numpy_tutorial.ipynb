{
 "cells": [
  {
   "cell_type": "code",
   "execution_count": 2,
   "id": "7fed8c87",
   "metadata": {},
   "outputs": [
    {
     "data": {
      "text/plain": [
       "array([1, 2, 3, 4, 5])"
      ]
     },
     "execution_count": 2,
     "metadata": {},
     "output_type": "execute_result"
    }
   ],
   "source": [
    "import numpy as np\n",
    "\n",
    "arr = np.array([1, 2, 3, 4, 5])\n",
    "arr"
   ]
  },
  {
   "cell_type": "code",
   "execution_count": 3,
   "id": "7690b714",
   "metadata": {},
   "outputs": [
    {
     "data": {
      "text/plain": [
       "[1, 2, 3, 4, 5]"
      ]
     },
     "execution_count": 3,
     "metadata": {},
     "output_type": "execute_result"
    }
   ],
   "source": [
    "my_list = [1, 2, 3, 4, 5]\n",
    "my_list"
   ]
  },
  {
   "cell_type": "code",
   "execution_count": 7,
   "id": "5fbf2e2c",
   "metadata": {},
   "outputs": [
    {
     "data": {
      "text/plain": [
       "[0, 1, 2, 3, 4]"
      ]
     },
     "execution_count": 7,
     "metadata": {},
     "output_type": "execute_result"
    }
   ],
   "source": [
    "python_list = list(range(100))\n",
    "python_list[:5]"
   ]
  },
  {
   "cell_type": "code",
   "execution_count": 10,
   "id": "144f008b",
   "metadata": {},
   "outputs": [
    {
     "data": {
      "text/plain": [
       "2800"
      ]
     },
     "execution_count": 10,
     "metadata": {},
     "output_type": "execute_result"
    }
   ],
   "source": [
    "import sys\n",
    "sys.getsizeof(python_list[0])*len(python_list)"
   ]
  },
  {
   "cell_type": "code",
   "execution_count": 11,
   "id": "7be2da29",
   "metadata": {},
   "outputs": [
    {
     "data": {
      "text/plain": [
       "array([0, 1, 2, 3, 4])"
      ]
     },
     "execution_count": 11,
     "metadata": {},
     "output_type": "execute_result"
    }
   ],
   "source": [
    "python_np_array = np.arange(100)\n",
    "python_np_array[:5]"
   ]
  },
  {
   "cell_type": "code",
   "execution_count": 13,
   "id": "0c442534",
   "metadata": {},
   "outputs": [
    {
     "data": {
      "text/plain": [
       "800"
      ]
     },
     "execution_count": 13,
     "metadata": {},
     "output_type": "execute_result"
    }
   ],
   "source": [
    "python_np_array.nbytes"
   ]
  },
  {
   "cell_type": "code",
   "execution_count": 14,
   "id": "d0455fe0",
   "metadata": {},
   "outputs": [
    {
     "data": {
      "text/plain": [
       "3200"
      ]
     },
     "execution_count": 14,
     "metadata": {},
     "output_type": "execute_result"
    }
   ],
   "source": [
    "import sys\n",
    "sys.getsizeof(python_np_array[0])*len(python_np_array)"
   ]
  },
  {
   "cell_type": "code",
   "execution_count": 17,
   "id": "f5ee645a",
   "metadata": {},
   "outputs": [
    {
     "name": "stdout",
     "output_type": "stream",
     "text": [
      "[0, 2, 4, 6, 8, 10, 12, 14, 16, 18, 20, 22, 24, 26, 28, 30, 32, 34, 36, 38, 40, 42, 44, 46, 48, 50, 52, 54, 56, 58, 60, 62, 64, 66, 68, 70, 72, 74, 76, 78, 80, 82, 84, 86, 88, 90, 92, 94, 96, 98, 100, 102, 104, 106, 108, 110, 112, 114, 116, 118, 120, 122, 124, 126, 128, 130, 132, 134, 136, 138, 140, 142, 144, 146, 148, 150, 152, 154, 156, 158, 160, 162, 164, 166, 168, 170, 172, 174, 176, 178, 180, 182, 184, 186, 188, 190, 192, 194, 196, 198]\n",
      "List took:  0.1468658447265625\n"
     ]
    }
   ],
   "source": [
    "import time\n",
    "\n",
    "size = 100\n",
    "\n",
    "list_1 = list(range(size))\n",
    "list_2 = list(range(size))\n",
    "\n",
    "start_time = time.time()\n",
    "list_3 = [x+y for x, y in zip(list_1, list_2)]\n",
    "end_time = time.time()\n",
    "\n",
    "print(list_3)\n",
    "print(\"List took: \", (end_time - start_time)*1000)"
   ]
  },
  {
   "cell_type": "code",
   "execution_count": 18,
   "id": "cf8772d6",
   "metadata": {},
   "outputs": [
    {
     "data": {
      "text/plain": [
       "(array([0, 1, 2, 3, 4]), array([0, 1, 2, 3, 4]))"
      ]
     },
     "execution_count": 18,
     "metadata": {},
     "output_type": "execute_result"
    }
   ],
   "source": [
    "numpy_arr_1 = np.arange(size)\n",
    "numpy_arr_2 = np.arange(size)\n",
    "numpy_arr_1[:5], numpy_arr_2[:5]"
   ]
  },
  {
   "cell_type": "code",
   "execution_count": 31,
   "id": "b1c97e10",
   "metadata": {},
   "outputs": [
    {
     "name": "stdout",
     "output_type": "stream",
     "text": [
      "[0 2 4 6 8]\n",
      "Numpy took:  0.3142356872558594\n"
     ]
    }
   ],
   "source": [
    "start_time = time.time()\n",
    "numpy_arr_3 = numpy_arr_1 + numpy_arr_2\n",
    "print(numpy_arr_3[:5])\n",
    "end_time = time.time()\n",
    "print(\"Numpy took: \", (end_time - start_time)*1000)"
   ]
  },
  {
   "cell_type": "code",
   "execution_count": null,
   "id": "2c077902",
   "metadata": {},
   "outputs": [
    {
     "data": {
      "text/plain": [
       "[0, 1, 2, 3, 4, 0, 1, 2, 3, 4]"
      ]
     },
     "execution_count": 32,
     "metadata": {},
     "output_type": "execute_result"
    }
   ],
   "source": [
    "list_1 = list(range(5))\n",
    "list_2 = list(range(5))\n",
    "list_1, list_2\n",
    "list_3 = list_1+list_2\n",
    "list_3\n",
    "#It is doing simple concatenation.Not addition"
   ]
  },
  {
   "cell_type": "code",
   "execution_count": null,
   "id": "01f37326",
   "metadata": {},
   "outputs": [],
   "source": []
  }
 ],
 "metadata": {
  "kernelspec": {
   "display_name": "Python 3",
   "language": "python",
   "name": "python3"
  },
  "language_info": {
   "codemirror_mode": {
    "name": "ipython",
    "version": 3
   },
   "file_extension": ".py",
   "mimetype": "text/x-python",
   "name": "python",
   "nbconvert_exporter": "python",
   "pygments_lexer": "ipython3",
   "version": "3.13.1"
  }
 },
 "nbformat": 4,
 "nbformat_minor": 5
}
