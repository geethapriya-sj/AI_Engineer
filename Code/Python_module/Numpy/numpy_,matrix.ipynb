{
 "cells": [
  {
   "cell_type": "code",
   "execution_count": 1,
   "id": "d54f46fd",
   "metadata": {},
   "outputs": [],
   "source": [
    "import numpy as np"
   ]
  },
  {
   "cell_type": "code",
   "execution_count": 2,
   "id": "7b232cb9",
   "metadata": {},
   "outputs": [],
   "source": [
    "q1= np.array([\n",
    "    [220,220,250],  #product A\n",
    "    [150,180,210],  #product B\n",
    "    [300,330,360]])  #product C\n",
    "\n",
    "q2 = np.array([\n",
    "    [209,231,259], #product A\n",
    "    [155,192,222], #product B\n",
    "    [310,340,375]]) #product C"
   ]
  },
  {
   "cell_type": "code",
   "execution_count": 3,
   "id": "bb872f53",
   "metadata": {},
   "outputs": [
    {
     "data": {
      "text/plain": [
       "array([[429, 451, 509],\n",
       "       [305, 372, 432],\n",
       "       [610, 670, 735]])"
      ]
     },
     "execution_count": 3,
     "metadata": {},
     "output_type": "execute_result"
    }
   ],
   "source": [
    "q1+q2"
   ]
  },
  {
   "cell_type": "code",
   "execution_count": 4,
   "id": "d57cd76d",
   "metadata": {},
   "outputs": [
    {
     "data": {
      "text/plain": [
       "array([[-11,  11,   9],\n",
       "       [  5,  12,  12],\n",
       "       [ 10,  10,  15]])"
      ]
     },
     "execution_count": 4,
     "metadata": {},
     "output_type": "execute_result"
    }
   ],
   "source": [
    "q2-q1"
   ]
  },
  {
   "cell_type": "code",
   "execution_count": 5,
   "id": "b884fbd8",
   "metadata": {},
   "outputs": [
    {
     "data": {
      "text/plain": [
       "array([[ 45980,  50820,  64750],\n",
       "       [ 23250,  34560,  46620],\n",
       "       [ 93000, 112200, 135000]])"
      ]
     },
     "execution_count": 5,
     "metadata": {},
     "output_type": "execute_result"
    }
   ],
   "source": [
    "q1 * q2"
   ]
  },
  {
   "cell_type": "code",
   "execution_count": 6,
   "id": "424f1d55",
   "metadata": {},
   "outputs": [
    {
     "data": {
      "text/plain": [
       "array([[ 2090,  4620,  7770],\n",
       "       [ 6200,  9600, 13320],\n",
       "       [21700, 27200, 33750]])"
      ]
     },
     "execution_count": 6,
     "metadata": {},
     "output_type": "execute_result"
    }
   ],
   "source": [
    "price = np.array([[10,20,30],[40,50,60],[70,80,90]])\n",
    "rev = price * q2\n",
    "rev"
   ]
  },
  {
   "cell_type": "code",
   "execution_count": 7,
   "id": "0656ec1b",
   "metadata": {},
   "outputs": [
    {
     "data": {
      "text/plain": [
       "np.int64(126250)"
      ]
     },
     "execution_count": 7,
     "metadata": {},
     "output_type": "execute_result"
    }
   ],
   "source": [
    "np.sum(rev)"
   ]
  },
  {
   "cell_type": "code",
   "execution_count": 10,
   "id": "bca30f2d",
   "metadata": {},
   "outputs": [
    {
     "data": {
      "text/plain": [
       "array([450000, 370000])"
      ]
     },
     "execution_count": 10,
     "metadata": {},
     "output_type": "execute_result"
    }
   ],
   "source": [
    "features = np.array([[2000,3],[1800,2]])  #area,sqft,bedrooms\n",
    "weights = np.array([150,50000])  #weights for each feature\n",
    "\n",
    "np.dot(features,weights)"
   ]
  },
  {
   "cell_type": "code",
   "execution_count": 12,
   "id": "b58f64b2",
   "metadata": {},
   "outputs": [
    {
     "data": {
      "text/plain": [
       "array([-3,  6, -3])"
      ]
     },
     "execution_count": 12,
     "metadata": {},
     "output_type": "execute_result"
    }
   ],
   "source": [
    "c = np.array([1,2,3])\n",
    "d = np.array([4,5,6])\n",
    "np.cross(c,d)"
   ]
  },
  {
   "cell_type": "code",
   "execution_count": null,
   "id": "61eff5ff",
   "metadata": {},
   "outputs": [],
   "source": []
  }
 ],
 "metadata": {
  "kernelspec": {
   "display_name": "Python 3",
   "language": "python",
   "name": "python3"
  },
  "language_info": {
   "codemirror_mode": {
    "name": "ipython",
    "version": 3
   },
   "file_extension": ".py",
   "mimetype": "text/x-python",
   "name": "python",
   "nbconvert_exporter": "python",
   "pygments_lexer": "ipython3",
   "version": "3.13.1"
  }
 },
 "nbformat": 4,
 "nbformat_minor": 5
}
